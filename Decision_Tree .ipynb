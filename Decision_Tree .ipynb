{
 "cells": [
  {
   "cell_type": "code",
   "execution_count": 4,
   "metadata": {},
   "outputs": [],
   "source": [
    "#library imports\n",
    "import pandas as pd\n",
    "import numpy as np\n",
    "import matplotlib.pyplot as ptl "
   ]
  },
  {
   "cell_type": "code",
   "execution_count": 6,
   "metadata": {},
   "outputs": [],
   "source": [
    "#dataset imports\n",
    "data = pd.read_csv('C:/Users/admin/Desktop/capitalbikeshare-tripdata.csv')"
   ]
  },
  {
   "cell_type": "code",
   "execution_count": 15,
   "metadata": {},
   "outputs": [
    {
     "data": {
      "text/html": [
       "<div>\n",
       "<style scoped>\n",
       "    .dataframe tbody tr th:only-of-type {\n",
       "        vertical-align: middle;\n",
       "    }\n",
       "\n",
       "    .dataframe tbody tr th {\n",
       "        vertical-align: top;\n",
       "    }\n",
       "\n",
       "    .dataframe thead th {\n",
       "        text-align: right;\n",
       "    }\n",
       "</style>\n",
       "<table border=\"1\" class=\"dataframe\">\n",
       "  <thead>\n",
       "    <tr style=\"text-align: right;\">\n",
       "      <th></th>\n",
       "      <th>Duration</th>\n",
       "      <th>Start date</th>\n",
       "      <th>End date</th>\n",
       "      <th>Start station number</th>\n",
       "      <th>Start station</th>\n",
       "      <th>End station number</th>\n",
       "      <th>End station</th>\n",
       "      <th>Bike number</th>\n",
       "      <th>Member type</th>\n",
       "    </tr>\n",
       "  </thead>\n",
       "  <tbody>\n",
       "    <tr>\n",
       "      <td>0</td>\n",
       "      <td>1012</td>\n",
       "      <td>9/20/2010 11:27</td>\n",
       "      <td>9/20/2010 11:43</td>\n",
       "      <td>31208</td>\n",
       "      <td>M St &amp; New Jersey Ave SE</td>\n",
       "      <td>31108</td>\n",
       "      <td>4th &amp; M St SW</td>\n",
       "      <td>W00742</td>\n",
       "      <td>Member</td>\n",
       "    </tr>\n",
       "    <tr>\n",
       "      <td>1</td>\n",
       "      <td>61</td>\n",
       "      <td>9/20/2010 11:41</td>\n",
       "      <td>9/20/2010 11:42</td>\n",
       "      <td>31209</td>\n",
       "      <td>1st &amp; N St  SE</td>\n",
       "      <td>31209</td>\n",
       "      <td>1st &amp; N St  SE</td>\n",
       "      <td>W00032</td>\n",
       "      <td>Member</td>\n",
       "    </tr>\n",
       "    <tr>\n",
       "      <td>2</td>\n",
       "      <td>2690</td>\n",
       "      <td>9/20/2010 12:05</td>\n",
       "      <td>9/20/2010 12:50</td>\n",
       "      <td>31600</td>\n",
       "      <td>5th &amp; K St NW</td>\n",
       "      <td>31100</td>\n",
       "      <td>19th St &amp; Pennsylvania Ave NW</td>\n",
       "      <td>W00993</td>\n",
       "      <td>Member</td>\n",
       "    </tr>\n",
       "    <tr>\n",
       "      <td>3</td>\n",
       "      <td>1406</td>\n",
       "      <td>9/20/2010 12:06</td>\n",
       "      <td>9/20/2010 12:29</td>\n",
       "      <td>31600</td>\n",
       "      <td>5th &amp; K St NW</td>\n",
       "      <td>31602</td>\n",
       "      <td>Park Rd &amp; Holmead Pl NW</td>\n",
       "      <td>W00344</td>\n",
       "      <td>Member</td>\n",
       "    </tr>\n",
       "    <tr>\n",
       "      <td>4</td>\n",
       "      <td>1413</td>\n",
       "      <td>9/20/2010 12:10</td>\n",
       "      <td>9/20/2010 12:34</td>\n",
       "      <td>31100</td>\n",
       "      <td>19th St &amp; Pennsylvania Ave NW</td>\n",
       "      <td>31201</td>\n",
       "      <td>15th &amp; P St NW</td>\n",
       "      <td>W00883</td>\n",
       "      <td>Member</td>\n",
       "    </tr>\n",
       "  </tbody>\n",
       "</table>\n",
       "</div>"
      ],
      "text/plain": [
       "   Duration       Start date         End date  Start station number  \\\n",
       "0      1012  9/20/2010 11:27  9/20/2010 11:43                 31208   \n",
       "1        61  9/20/2010 11:41  9/20/2010 11:42                 31209   \n",
       "2      2690  9/20/2010 12:05  9/20/2010 12:50                 31600   \n",
       "3      1406  9/20/2010 12:06  9/20/2010 12:29                 31600   \n",
       "4      1413  9/20/2010 12:10  9/20/2010 12:34                 31100   \n",
       "\n",
       "                   Start station  End station number  \\\n",
       "0       M St & New Jersey Ave SE               31108   \n",
       "1                 1st & N St  SE               31209   \n",
       "2                  5th & K St NW               31100   \n",
       "3                  5th & K St NW               31602   \n",
       "4  19th St & Pennsylvania Ave NW               31201   \n",
       "\n",
       "                     End station Bike number Member type  \n",
       "0                  4th & M St SW      W00742      Member  \n",
       "1                 1st & N St  SE      W00032      Member  \n",
       "2  19th St & Pennsylvania Ave NW      W00993      Member  \n",
       "3        Park Rd & Holmead Pl NW      W00344      Member  \n",
       "4                 15th & P St NW      W00883      Member  "
      ]
     },
     "execution_count": 15,
     "metadata": {},
     "output_type": "execute_result"
    }
   ],
   "source": [
    "data.head()"
   ]
  },
  {
   "cell_type": "code",
   "execution_count": 11,
   "metadata": {
    "scrolled": true
   },
   "outputs": [
    {
     "name": "stdout",
     "output_type": "stream",
     "text": [
      "            Duration  Start station number  End station number\n",
      "count  115597.000000         115597.000000       115597.000000\n",
      "mean     1254.649956          31266.213431        31268.042250\n",
      "std      2914.317998            187.645048          186.194316\n",
      "min        60.000000          31000.000000        31000.000000\n",
      "25%       403.000000          31110.000000        31111.000000\n",
      "50%       665.000000          31213.000000        31214.000000\n",
      "75%      1120.000000          31301.000000        31238.000000\n",
      "max     85644.000000          31805.000000        31805.000000\n"
     ]
    }
   ],
   "source": [
    "print(data.describe())"
   ]
  },
  {
   "cell_type": "code",
   "execution_count": null,
   "metadata": {},
   "outputs": [],
   "source": [
    "#links\n",
    "#https://www.shanelynn.ie/select-pandas-dataframe-rows-and-columns-using-iloc-loc-and-ix/\n",
    "#iloc-> selects data by row number"
   ]
  },
  {
   "cell_type": "code",
   "execution_count": 33,
   "metadata": {},
   "outputs": [
    {
     "name": "stdout",
     "output_type": "stream",
     "text": [
      "[[ 1012 31208 31108]\n",
      " [   61 31209 31209]\n",
      " [ 2690 31600 31100]\n",
      " [ 1406 31600 31602]\n",
      " [ 1413 31100 31201]]\n",
      "['Member' 'Member' 'Member' 'Member' 'Member']\n"
     ]
    }
   ],
   "source": [
    "#features and class label seperation\n",
    " \n",
    "x=data.iloc[:,[0,3,5]].values\n",
    "y=data.iloc[:,-1].values\n",
    "print(x[:5])\n",
    "print(y[:5])"
   ]
  },
  {
   "cell_type": "code",
   "execution_count": 45,
   "metadata": {},
   "outputs": [
    {
     "name": "stdout",
     "output_type": "stream",
     "text": [
      "sample y: [1 1 1 1 1]\n",
      "0 : Casual\n",
      "1 : Member\n"
     ]
    }
   ],
   "source": [
    "#y needs encoding as it has categorical data\n",
    "#\n",
    "from sklearn.preprocessing import LabelEncoder\n",
    "le = LabelEncoder()\n",
    "y1 = le.fit_transform(y)\n",
    "print(\"sample y:\",y1[:5])\n",
    "print(\"0 :\",le.classes_[0])\n",
    "print(\"1 :\",le.classes_[1])"
   ]
  },
  {
   "cell_type": "code",
   "execution_count": 53,
   "metadata": {},
   "outputs": [
    {
     "name": "stdout",
     "output_type": "stream",
     "text": [
      "[1 1 1 1 1]\n",
      "[[  234 31111 31229]\n",
      " [ 1264 31108 31221]\n",
      " [  441 31200 31104]\n",
      " [  721 31104 31204]\n",
      " [  876 31200 31236]]\n"
     ]
    }
   ],
   "source": [
    "#Splitting of Data into Training & Testing\n",
    "from sklearn.model_selection import train_test_split\n",
    "x_train, x_test, y_train, y_test = train_test_split(x,y1,test_size=0.25,random_state=0)  \n",
    "print(y_test[:5])\n",
    "print(x_test[:5])\n",
    "\n"
   ]
  },
  {
   "cell_type": "code",
   "execution_count": 72,
   "metadata": {},
   "outputs": [],
   "source": [
    "# Machine: Classifier | Classifier: Decision Tree\n",
    "from sklearn.tree import DecisionTreeClassifier\n",
    "#by default criterion=gini\n"
   ]
  },
  {
   "cell_type": "code",
   "execution_count": 80,
   "metadata": {
    "scrolled": true
   },
   "outputs": [
    {
     "data": {
      "text/plain": [
       "DecisionTreeClassifier(class_weight=None, criterion='entropy', max_depth=None,\n",
       "                       max_features=None, max_leaf_nodes=None,\n",
       "                       min_impurity_decrease=0.0, min_impurity_split=None,\n",
       "                       min_samples_leaf=4, min_samples_split=2,\n",
       "                       min_weight_fraction_leaf=0.0, presort=False,\n",
       "                       random_state=0, splitter='best')"
      ]
     },
     "execution_count": 80,
     "metadata": {},
     "output_type": "execute_result"
    }
   ],
   "source": [
    "# Predicting the Test set results of entropy -> is the mesasure of randomness\n",
    "# low entropy means high information gain and vice versa\n",
    "cl_en = DecisionTreeClassifier(criterion='entropy', min_samples_leaf=4, random_state=0)\n",
    "cl_en.fit(x_train, y_train)\n",
    "cl_en"
   ]
  },
  {
   "cell_type": "code",
   "execution_count": 76,
   "metadata": {},
   "outputs": [
    {
     "name": "stdout",
     "output_type": "stream",
     "text": [
      "Predicting results of entropy: \n",
      "[1 1 1 ... 1 1 1]\n",
      "Confusion Matrix: \n",
      " [[ 3368  2721]\n",
      " [ 2641 20170]]\n",
      "Accuracy : \n",
      " 81.44636678200692\n",
      "Report : \n",
      "               precision    recall  f1-score   support\n",
      "\n",
      "           0       0.56      0.55      0.56      6089\n",
      "           1       0.88      0.88      0.88     22811\n",
      "\n",
      "    accuracy                           0.81     28900\n",
      "   macro avg       0.72      0.72      0.72     28900\n",
      "weighted avg       0.81      0.81      0.81     28900\n",
      "\n"
     ]
    }
   ],
   "source": [
    "y_pred = cl_en.predict(x_test)\n",
    "print(\"Predicting results of entropy: \")\n",
    "print(y_pred)\n",
    "from sklearn.metrics import confusion_matrix,accuracy_score,classification_report\n",
    "\n",
    "print(\"Confusion Matrix: \\n\",confusion_matrix(y_test, y_pred)) \n",
    "print (\"Accuracy : \\n\",accuracy_score(y_test,y_pred)*100) \n",
    "print(\"Report : \\n\",classification_report(y_test, y_pred)) \n"
   ]
  },
  {
   "cell_type": "code",
   "execution_count": 75,
   "metadata": {},
   "outputs": [
    {
     "name": "stdout",
     "output_type": "stream",
     "text": [
      "Predicting results of entropy: \n",
      "[1 1 1 ... 1 1 1]\n",
      "Confusion Matrix: \n",
      " [[ 3398  2691]\n",
      " [ 2573 20238]]\n",
      "Accuracy : \n",
      " 81.78546712802768\n",
      "Report : \n",
      "               precision    recall  f1-score   support\n",
      "\n",
      "           0       0.57      0.56      0.56      6089\n",
      "           1       0.88      0.89      0.88     22811\n",
      "\n",
      "    accuracy                           0.82     28900\n",
      "   macro avg       0.73      0.72      0.72     28900\n",
      "weighted avg       0.82      0.82      0.82     28900\n",
      "\n"
     ]
    }
   ],
   "source": [
    "cl_gini = DecisionTreeClassifier(criterion='gini', min_samples_leaf=4, random_state=0)\n",
    "cl_gini.fit(x_train, y_train)\n",
    "y_pred = cl_gini.predict(x_test)\n",
    "print(\"Predicting results of entropy: \")\n",
    "print(y_pred)\n",
    "print(\"Confusion Matrix: \\n\",confusion_matrix(y_test, y_pred)) \n",
    "print (\"Accuracy : \\n\",accuracy_score(y_test,y_pred)*100) \n",
    "print(\"Report : \\n\",classification_report(y_test, y_pred)) \n"
   ]
  },
  {
   "cell_type": "code",
   "execution_count": null,
   "metadata": {},
   "outputs": [],
   "source": []
  }
 ],
 "metadata": {
  "kernelspec": {
   "display_name": "Python 3",
   "language": "python",
   "name": "python3"
  },
  "language_info": {
   "codemirror_mode": {
    "name": "ipython",
    "version": 3
   },
   "file_extension": ".py",
   "mimetype": "text/x-python",
   "name": "python",
   "nbconvert_exporter": "python",
   "pygments_lexer": "ipython3",
   "version": "3.7.3"
  }
 },
 "nbformat": 4,
 "nbformat_minor": 2
}
